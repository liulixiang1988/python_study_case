{
 "cells": [
  {
   "cell_type": "markdown",
   "metadata": {},
   "source": [
    "# 测试"
   ]
  },
  {
   "cell_type": "markdown",
   "metadata": {},
   "source": [
    "用来测试的一些代码。"
   ]
  },
  {
   "cell_type": "code",
   "execution_count": 6,
   "metadata": {
    "collapsed": true
   },
   "outputs": [],
   "source": [
    "import pandas as pd\n",
    "from matplotlib import pyplot as plt\n",
    "import pymysql\n",
    "\n",
    "con = pymysql.connect(host='192.168.31.69',\n",
    "                      user='root',\n",
    "                      password='iea20',\n",
    "                      db='iea20_test',\n",
    "                      charset='utf8mb4',\n",
    "                      cursorclass=pymysql.cursors.DictCursor)\n",
    "df = pd.read_sql('select OCREndTime as datetime from log_task where planid=77',\n",
    "                 con=con)\n",
    "con.close()"
   ]
  },
  {
   "cell_type": "code",
   "execution_count": 8,
   "metadata": {
    "collapsed": false
   },
   "outputs": [
    {
     "data": {
      "text/html": [
       "<div>\n",
       "<table border=\"1\" class=\"dataframe\">\n",
       "  <thead>\n",
       "    <tr style=\"text-align: right;\">\n",
       "      <th></th>\n",
       "      <th>datetime</th>\n",
       "    </tr>\n",
       "    <tr>\n",
       "      <th>datetime</th>\n",
       "      <th></th>\n",
       "    </tr>\n",
       "  </thead>\n",
       "  <tbody>\n",
       "    <tr>\n",
       "      <th>2016-07-25 22:58:53</th>\n",
       "      <td>2016-07-25 22:58:53</td>\n",
       "    </tr>\n",
       "    <tr>\n",
       "      <th>2016-07-25 22:47:38</th>\n",
       "      <td>2016-07-25 22:47:38</td>\n",
       "    </tr>\n",
       "    <tr>\n",
       "      <th>2016-07-26 02:39:50</th>\n",
       "      <td>2016-07-26 02:39:50</td>\n",
       "    </tr>\n",
       "    <tr>\n",
       "      <th>2016-07-26 02:55:26</th>\n",
       "      <td>2016-07-26 02:55:26</td>\n",
       "    </tr>\n",
       "    <tr>\n",
       "      <th>2016-07-26 05:57:14</th>\n",
       "      <td>2016-07-26 05:57:14</td>\n",
       "    </tr>\n",
       "  </tbody>\n",
       "</table>\n",
       "</div>"
      ],
      "text/plain": [
       "                               datetime\n",
       "datetime                               \n",
       "2016-07-25 22:58:53 2016-07-25 22:58:53\n",
       "2016-07-25 22:47:38 2016-07-25 22:47:38\n",
       "2016-07-26 02:39:50 2016-07-26 02:39:50\n",
       "2016-07-26 02:55:26 2016-07-26 02:55:26\n",
       "2016-07-26 05:57:14 2016-07-26 05:57:14"
      ]
     },
     "execution_count": 8,
     "metadata": {},
     "output_type": "execute_result"
    }
   ],
   "source": [
    "#df.groupby(df.datetime.dt.date).count().plot(kind='bar')\n",
    "df.set_index('datetime', drop=False, inplace=True)\n",
    "df.head()"
   ]
  }
 ],
 "metadata": {
  "kernelspec": {
   "display_name": "Python 3",
   "language": "python",
   "name": "python3"
  },
  "language_info": {
   "codemirror_mode": {
    "name": "ipython",
    "version": 3
   },
   "file_extension": ".py",
   "mimetype": "text/x-python",
   "name": "python",
   "nbconvert_exporter": "python",
   "pygments_lexer": "ipython3",
   "version": "3.5.1"
  }
 },
 "nbformat": 4,
 "nbformat_minor": 0
}
