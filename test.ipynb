{
 "cells": [
  {
   "cell_type": "markdown",
   "metadata": {},
   "source": [
    "# 测试"
   ]
  },
  {
   "cell_type": "markdown",
   "metadata": {},
   "source": [
    "### 到现在为止，你最喜欢，对你影响最大的图书是哪一本？请简述理由"
   ]
  },
  {
   "cell_type": "markdown",
   "metadata": {},
   "source": [
    "图灵的好书很多，目前影响最大的是《java 8实战》，因为书里函数式的思想让我改变了对程序设计的思考方式，节省了我很多时间。我认为一本书能改变人的思想是非常重要的。授人以鱼不如授人以渔，这本书同时给了鱼和渔。"
   ]
  },
  {
   "cell_type": "markdown",
   "metadata": {},
   "source": [
    "### 编程求解：一个数最后一位是6，移动到首位是原来的数的三倍，求这个数是几位数。"
   ]
  },
  {
   "cell_type": "markdown",
   "metadata": {},
   "source": [
    "**思路**：假设这个数是n位数，其中原始的数`X=10*m+6`,则6移动到首位的数字是`3*X=6*10**(n-1)+m`，则`6*10**n+m=30*m+18`,化简得到：\n",
    "`(6*10**(n-1)-18)/18 = m`，其中`m`必须是整数，那么当`n`的值使式子能整数时就是解。"
   ]
  },
  {
   "cell_type": "code",
   "execution_count": 20,
   "metadata": {
    "collapsed": true
   },
   "outputs": [],
   "source": [
    "fun = lambda x: (6*10**(x-1) - 18) % 29 == 0"
   ]
  },
  {
   "cell_type": "code",
   "execution_count": 21,
   "metadata": {
    "collapsed": false
   },
   "outputs": [
    {
     "name": "stdout",
     "output_type": "stream",
     "text": [
      "28\n",
      "56\n",
      "84\n",
      "112\n",
      "140\n",
      "168\n",
      "196\n",
      "224\n",
      "252\n",
      "280\n",
      "308\n",
      "336\n",
      "364\n",
      "392\n",
      "420\n",
      "448\n",
      "476\n",
      "504\n",
      "532\n",
      "560\n",
      "588\n",
      "616\n",
      "644\n",
      "672\n",
      "700\n",
      "728\n",
      "756\n",
      "784\n",
      "812\n",
      "840\n",
      "868\n",
      "896\n",
      "924\n",
      "952\n",
      "980\n",
      "1008\n",
      "1036\n",
      "1064\n",
      "1092\n",
      "1120\n",
      "1148\n",
      "1176\n",
      "1204\n",
      "1232\n",
      "1260\n",
      "1288\n",
      "1316\n",
      "1344\n",
      "1372\n",
      "1400\n",
      "1428\n",
      "1456\n",
      "1484\n",
      "1512\n",
      "1540\n",
      "1568\n",
      "1596\n",
      "1624\n",
      "1652\n",
      "1680\n",
      "1708\n",
      "1736\n",
      "1764\n",
      "1792\n",
      "1820\n",
      "1848\n",
      "1876\n",
      "1904\n",
      "1932\n",
      "1960\n",
      "1988\n",
      "2016\n",
      "2044\n",
      "2072\n",
      "2100\n",
      "2128\n",
      "2156\n",
      "2184\n",
      "2212\n",
      "2240\n",
      "2268\n",
      "2296\n",
      "2324\n",
      "2352\n",
      "2380\n",
      "2408\n",
      "2436\n",
      "2464\n",
      "2492\n",
      "2520\n",
      "2548\n",
      "2576\n",
      "2604\n",
      "2632\n",
      "2660\n",
      "2688\n",
      "2716\n",
      "2744\n",
      "2772\n",
      "2800\n",
      "2828\n",
      "2856\n",
      "2884\n",
      "2912\n",
      "2940\n",
      "2968\n",
      "2996\n",
      "3024\n",
      "3052\n",
      "3080\n",
      "3108\n",
      "3136\n",
      "3164\n",
      "3192\n",
      "3220\n",
      "3248\n",
      "3276\n",
      "3304\n",
      "3332\n",
      "3360\n",
      "3388\n",
      "3416\n",
      "3444\n",
      "3472\n",
      "3500\n",
      "3528\n",
      "3556\n",
      "3584\n",
      "3612\n",
      "3640\n",
      "3668\n",
      "3696\n",
      "3724\n",
      "3752\n",
      "3780\n",
      "3808\n",
      "3836\n",
      "3864\n",
      "3892\n",
      "3920\n",
      "3948\n",
      "3976\n",
      "4004\n",
      "4032\n",
      "4060\n",
      "4088\n",
      "4116\n",
      "4144\n",
      "4172\n",
      "4200\n",
      "4228\n",
      "4256\n",
      "4284\n",
      "4312\n",
      "4340\n",
      "4368\n",
      "4396\n",
      "4424\n",
      "4452\n",
      "4480\n",
      "4508\n",
      "4536\n",
      "4564\n",
      "4592\n",
      "4620\n",
      "4648\n",
      "4676\n",
      "4704\n",
      "4732\n",
      "4760\n",
      "4788\n",
      "4816\n",
      "4844\n",
      "4872\n",
      "4900\n",
      "4928\n",
      "4956\n",
      "4984\n",
      "5012\n",
      "5040\n",
      "5068\n",
      "5096\n",
      "5124\n",
      "5152\n",
      "5180\n",
      "5208\n",
      "5236\n",
      "5264\n",
      "5292\n",
      "5320\n",
      "5348\n",
      "5376\n",
      "5404\n",
      "5432\n",
      "5460\n",
      "5488\n",
      "5516\n",
      "5544\n",
      "5572\n",
      "5600\n",
      "5628\n",
      "5656\n",
      "5684\n",
      "5712\n",
      "5740\n",
      "5768\n",
      "5796\n",
      "5824\n",
      "5852\n",
      "5880\n",
      "5908\n",
      "5936\n",
      "5964\n",
      "5992\n",
      "6020\n",
      "6048\n",
      "6076\n",
      "6104\n",
      "6132\n",
      "6160\n",
      "6188\n",
      "6216\n",
      "6244\n",
      "6272\n",
      "6300\n",
      "6328\n",
      "6356\n",
      "6384\n",
      "6412\n",
      "6440\n",
      "6468\n",
      "6496\n",
      "6524\n",
      "6552\n",
      "6580\n",
      "6608\n",
      "6636\n",
      "6664\n",
      "6692\n",
      "6720\n",
      "6748\n",
      "6776\n",
      "6804\n",
      "6832\n",
      "6860\n",
      "6888\n",
      "6916\n",
      "6944\n",
      "6972\n",
      "7000\n",
      "7028\n",
      "7056\n",
      "7084\n",
      "7112\n",
      "7140\n",
      "7168\n",
      "7196\n",
      "7224\n",
      "7252\n",
      "7280\n",
      "7308\n",
      "7336\n",
      "7364\n",
      "7392\n",
      "7420\n",
      "7448\n",
      "7476\n",
      "7504\n",
      "7532\n",
      "7560\n",
      "7588\n",
      "7616\n",
      "7644\n",
      "7672\n",
      "7700\n",
      "7728\n",
      "7756\n",
      "7784\n",
      "7812\n",
      "7840\n",
      "7868\n",
      "7896\n",
      "7924\n",
      "7952\n",
      "7980\n",
      "8008\n",
      "8036\n",
      "8064\n",
      "8092\n",
      "8120\n",
      "8148\n",
      "8176\n",
      "8204\n",
      "8232\n",
      "8260\n",
      "8288\n",
      "8316\n",
      "8344\n",
      "8372\n",
      "8400\n",
      "8428\n",
      "8456\n",
      "8484\n",
      "8512\n",
      "8540\n",
      "8568\n",
      "8596\n",
      "8624\n",
      "8652\n",
      "8680\n",
      "8708\n",
      "8736\n",
      "8764\n",
      "8792\n",
      "8820\n",
      "8848\n",
      "8876\n",
      "8904\n",
      "8932\n",
      "8960\n",
      "8988\n",
      "9016\n",
      "9044\n",
      "9072\n",
      "9100\n",
      "9128\n",
      "9156\n",
      "9184\n",
      "9212\n",
      "9240\n",
      "9268\n",
      "9296\n",
      "9324\n",
      "9352\n",
      "9380\n",
      "9408\n",
      "9436\n",
      "9464\n",
      "9492\n",
      "9520\n",
      "9548\n",
      "9576\n",
      "9604\n",
      "9632\n",
      "9660\n",
      "9688\n",
      "9716\n",
      "9744\n",
      "9772\n",
      "9800\n",
      "9828\n",
      "9856\n",
      "9884\n",
      "9912\n",
      "9940\n",
      "9968\n",
      "9996\n"
     ]
    }
   ],
   "source": [
    "i = 2\n",
    "while i < 10000:\n",
    "    if fun(i):\n",
    "        print(i)\n",
    "    i = i + 1"
   ]
  },
  {
   "cell_type": "code",
   "execution_count": 13,
   "metadata": {
    "collapsed": true
   },
   "outputs": [],
   "source": [
    "a = (6*10**27-18)/29*10+6"
   ]
  },
  {
   "cell_type": "code",
   "execution_count": 14,
   "metadata": {
    "collapsed": true
   },
   "outputs": [],
   "source": [
    "b = 6*10**27+(6*10**27-18)/29"
   ]
  },
  {
   "cell_type": "code",
   "execution_count": 15,
   "metadata": {
    "collapsed": false
   },
   "outputs": [
    {
     "data": {
      "text/plain": [
       "2.9999999999999996"
      ]
     },
     "execution_count": 15,
     "metadata": {},
     "output_type": "execute_result"
    }
   ],
   "source": [
    "b/a"
   ]
  },
  {
   "cell_type": "code",
   "execution_count": 18,
   "metadata": {
    "collapsed": false
   },
   "outputs": [
    {
     "data": {
      "text/plain": [
       "6.206896551724137e+27"
      ]
     },
     "execution_count": 18,
     "metadata": {},
     "output_type": "execute_result"
    }
   ],
   "source": [
    "b"
   ]
  },
  {
   "cell_type": "code",
   "execution_count": 19,
   "metadata": {
    "collapsed": false
   },
   "outputs": [
    {
     "data": {
      "text/plain": [
       "2.0689655172413793e+27"
      ]
     },
     "execution_count": 19,
     "metadata": {},
     "output_type": "execute_result"
    }
   ],
   "source": [
    "a"
   ]
  },
  {
   "cell_type": "code",
   "execution_count": 1,
   "metadata": {
    "collapsed": true
   },
   "outputs": [],
   "source": [
    "import pandas"
   ]
  },
  {
   "cell_type": "code",
   "execution_count": 2,
   "metadata": {
    "collapsed": false
   },
   "outputs": [
    {
     "data": {
      "text/plain": [
       "<function pandas.io.excel.read_excel>"
      ]
     },
     "execution_count": 2,
     "metadata": {},
     "output_type": "execute_result"
    }
   ],
   "source": [
    "pandas.read_excel"
   ]
  },
  {
   "cell_type": "code",
   "execution_count": 3,
   "metadata": {
    "collapsed": true
   },
   "outputs": [],
   "source": [
    "ds = pandas.read_excel('识别结果_25.xlsx', skiprows=2)"
   ]
  },
  {
   "cell_type": "code",
   "execution_count": 6,
   "metadata": {
    "collapsed": false
   },
   "outputs": [
    {
     "data": {
      "text/html": [
       "<div>\n",
       "<table border=\"1\" class=\"dataframe\">\n",
       "  <thead>\n",
       "    <tr style=\"text-align: right;\">\n",
       "      <th></th>\n",
       "      <th>计划ID</th>\n",
       "      <th>数据ID</th>\n",
       "      <th>数据位置</th>\n",
       "      <th>数据类型</th>\n",
       "      <th>识别状态</th>\n",
       "      <th>识别结果</th>\n",
       "      <th>识别异常码</th>\n",
       "      <th>识别结果类型</th>\n",
       "    </tr>\n",
       "  </thead>\n",
       "  <tbody>\n",
       "    <tr>\n",
       "      <th>0</th>\n",
       "      <td>25</td>\n",
       "      <td>1291900003</td>\n",
       "      <td>12919_00003_F.jpg</td>\n",
       "      <td>0</td>\n",
       "      <td>2</td>\n",
       "      <td>我直相司到过丰\\n{p2}小的时候总想着要快点长大，这样就可以不用被爸妈\\n罗嗦了。现在却想...</td>\n",
       "      <td>0</td>\n",
       "      <td>正常</td>\n",
       "    </tr>\n",
       "    <tr>\n",
       "      <th>1</th>\n",
       "      <td>25</td>\n",
       "      <td>1291900005</td>\n",
       "      <td>12919_00005_F.jpg</td>\n",
       "      <td>0</td>\n",
       "      <td>2</td>\n",
       "      <td>我看机后个看下的朋友\\n{p6}我真想有一个真正的朋友{/p8}\\n{p2}初中三年时光匆匆...</td>\n",
       "      <td>0</td>\n",
       "      <td>正常</td>\n",
       "    </tr>\n",
       "    <tr>\n",
       "      <th>2</th>\n",
       "      <td>25</td>\n",
       "      <td>1291900007</td>\n",
       "      <td>12919_00007_F.jpg</td>\n",
       "      <td>0</td>\n",
       "      <td>2</td>\n",
       "      <td>{p8}我真想时光倒流{/p10}\\n{p2}人生不如意之事常八九了人的一生总爱幻想，因为他...</td>\n",
       "      <td>0</td>\n",
       "      <td>正常</td>\n",
       "    </tr>\n",
       "    <tr>\n",
       "      <th>3</th>\n",
       "      <td>25</td>\n",
       "      <td>1291900009</td>\n",
       "      <td>12919_00009_F.jpg</td>\n",
       "      <td>0</td>\n",
       "      <td>2</td>\n",
       "      <td>我真想、成功\\n{p2}每一个心里都有愿望，例如”坚强、成功和乐观等等\\n；而我想得到的是成...</td>\n",
       "      <td>0</td>\n",
       "      <td>正常</td>\n",
       "    </tr>\n",
       "    <tr>\n",
       "      <th>4</th>\n",
       "      <td>25</td>\n",
       "      <td>1291900011</td>\n",
       "      <td>12919_00011_F.jpg</td>\n",
       "      <td>0</td>\n",
       "      <td>2</td>\n",
       "      <td>呆有想坚理\\n{p2}以前。我在想的坚强，到底是什么，它到底有什么用\\n呢”怎么样才可以得到...</td>\n",
       "      <td>0</td>\n",
       "      <td>正常</td>\n",
       "    </tr>\n",
       "  </tbody>\n",
       "</table>\n",
       "</div>"
      ],
      "text/plain": [
       "   计划ID        数据ID               数据位置  数据类型  识别状态  \\\n",
       "0    25  1291900003  12919_00003_F.jpg     0     2   \n",
       "1    25  1291900005  12919_00005_F.jpg     0     2   \n",
       "2    25  1291900007  12919_00007_F.jpg     0     2   \n",
       "3    25  1291900009  12919_00009_F.jpg     0     2   \n",
       "4    25  1291900011  12919_00011_F.jpg     0     2   \n",
       "\n",
       "                                                识别结果  识别异常码 识别结果类型  \n",
       "0  我直相司到过丰\\n{p2}小的时候总想着要快点长大，这样就可以不用被爸妈\\n罗嗦了。现在却想...      0     正常  \n",
       "1  我看机后个看下的朋友\\n{p6}我真想有一个真正的朋友{/p8}\\n{p2}初中三年时光匆匆...      0     正常  \n",
       "2  {p8}我真想时光倒流{/p10}\\n{p2}人生不如意之事常八九了人的一生总爱幻想，因为他...      0     正常  \n",
       "3  我真想、成功\\n{p2}每一个心里都有愿望，例如”坚强、成功和乐观等等\\n；而我想得到的是成...      0     正常  \n",
       "4  呆有想坚理\\n{p2}以前。我在想的坚强，到底是什么，它到底有什么用\\n呢”怎么样才可以得到...      0     正常  "
      ]
     },
     "execution_count": 6,
     "metadata": {},
     "output_type": "execute_result"
    }
   ],
   "source": [
    "ds.head()"
   ]
  },
  {
   "cell_type": "code",
   "execution_count": 7,
   "metadata": {
    "collapsed": false
   },
   "outputs": [
    {
     "name": "stdout",
     "output_type": "stream",
     "text": [
      "Help on function sub in module re:\n",
      "\n",
      "sub(pattern, repl, string, count=0, flags=0)\n",
      "    Return the string obtained by replacing the leftmost\n",
      "    non-overlapping occurrences of the pattern in string by the\n",
      "    replacement repl.  repl can be either a string or a callable;\n",
      "    if a string, backslash escapes in it are processed.  If it is\n",
      "    a callable, it's passed the match object and must return\n",
      "    a replacement string to be used.\n",
      "\n"
     ]
    }
   ],
   "source": [
    "test_str = '''\n",
    "\"{p8}我真想时光倒流{/p10}\n",
    "{p2}人生不如意之事常八九了人的一生总爱幻想，因为他\n",
    "们做错和错过了太多。人们幻想，仿佛能通过这样的方式\n",
    "释，解开他们心中的一个结。{/p12}\n",
    "{p2}然而世上而没有后悔药。我也做了一些事令我十分后\n",
    "悔。此刻，我真想时光倒流，去多陪伴和多关怀一点那个\n",
    "爱我和我爱的人。{/p17}\n",
    "{p2}我小的时候，天真的我总爱粘着奶奶，坐在树下，让\n",
    "奶奶给我唱歌。每次爷爷总的拄着手杖从屋里走出来”坐\n",
    "在我身旁，用手轻抚我的头。我有点抗拒爷爷的手，总会\n",
    "的的身子，让他的手从我的头上滑落。而有些讽刺的是”\n",
    "我现在竟十分想念那个我当时有点抗拒的人。二的重{/p2}\n",
    "{p2}爷爷在我小的时候患上了风湿，活动起来的第困难，\n",
    "但他总会步行到街上买我爱吃的梨。爷爷还有中风，说话\n",
    "也有一定的困难，但面对我的问题和，即使说得很慢”很\n",
    "不清楚，也总会耐心地替我解解答。我不知道这个老人对\n",
    "他的孙子的爱有多深。也连是我当时{/p9}\n",
    "{p2}在我小学姐的时候，爷爷他去世了。那时我满，我觉\n",
    "得我的心中仿佛有什么东西在剧烈抽动，我只感觉胸口好\n",
    "痛”眼泪也不受控制地流出来。我明白了一些早该明白的\n",
    "东西。{/p22}\n",
    "{p2}我那时才明白他是多么爱我，自己是多么愚蠢。老人\n",
    "竭尽心力去爱护孙子，孙子不为所动。直到老人去世后才\n",
    "懂得他的爱，那己爱得太迟。{/p12}\n",
    "{p2}我真想时光倒流，回到从前去照顾的那个爱我的老人\n",
    "让他的手轻抚我的头，去关心爱护他，让他活得更开心，\n",
    "让自己不留遗憾。{/p17}\n",
    "{p2}我真想时光倒流。{/p15}\"\n",
    "'''\n",
    "\n",
    "import re\n",
    "help(re.sub)"
   ]
  },
  {
   "cell_type": "code",
   "execution_count": 9,
   "metadata": {
    "collapsed": false
   },
   "outputs": [
    {
     "data": {
      "text/plain": [
       "'\\n\"我真想时光倒流\\n人生不如意之事常八九了人的一生总爱幻想，因为他\\n们做错和错过了太多。人们幻想，仿佛能通过这样的方式\\n释，解开他们心中的一个结。\\n然而世上而没有后悔药。我也做了一些事令我十分后\\n悔。此刻，我真想时光倒流，去多陪伴和多关怀一点那个\\n爱我和我爱的人。\\n我小的时候，天真的我总爱粘着奶奶，坐在树下，让\\n奶奶给我唱歌。每次爷爷总的拄着手杖从屋里走出来”坐\\n在我身旁，用手轻抚我的头。我有点抗拒爷爷的手，总会\\n的的身子，让他的手从我的头上滑落。而有些讽刺的是”\\n我现在竟十分想念那个我当时有点抗拒的人。二的重\\n爷爷在我小的时候患上了风湿，活动起来的第困难，\\n但他总会步行到街上买我爱吃的梨。爷爷还有中风，说话\\n也有一定的困难，但面对我的问题和，即使说得很慢”很\\n不清楚，也总会耐心地替我解解答。我不知道这个老人对\\n他的孙子的爱有多深。也连是我当时\\n在我小学姐的时候，爷爷他去世了。那时我满，我觉\\n得我的心中仿佛有什么东西在剧烈抽动，我只感觉胸口好\\n痛”眼泪也不受控制地流出来。我明白了一些早该明白的\\n东西。\\n我那时才明白他是多么爱我，自己是多么愚蠢。老人\\n竭尽心力去爱护孙子，孙子不为所动。直到老人去世后才\\n懂得他的爱，那己爱得太迟。\\n我真想时光倒流，回到从前去照顾的那个爱我的老人\\n让他的手轻抚我的头，去关心爱护他，让他活得更开心，\\n让自己不留遗憾。\\n我真想时光倒流。\"\\n'"
      ]
     },
     "execution_count": 9,
     "metadata": {},
     "output_type": "execute_result"
    }
   ],
   "source": [
    "re.sub(r'{/*p\\d*}', '', test_str)"
   ]
  },
  {
   "cell_type": "code",
   "execution_count": 20,
   "metadata": {
    "collapsed": false
   },
   "outputs": [],
   "source": [
    "ds['识别结果'] = ds['识别结果'].str.replace(r'{/*p\\d*}', '')"
   ]
  },
  {
   "cell_type": "code",
   "execution_count": 22,
   "metadata": {
    "collapsed": false
   },
   "outputs": [
    {
     "data": {
      "text/html": [
       "<div>\n",
       "<table border=\"1\" class=\"dataframe\">\n",
       "  <thead>\n",
       "    <tr style=\"text-align: right;\">\n",
       "      <th></th>\n",
       "      <th>计划ID</th>\n",
       "      <th>数据ID</th>\n",
       "      <th>数据位置</th>\n",
       "      <th>数据类型</th>\n",
       "      <th>识别状态</th>\n",
       "      <th>识别结果</th>\n",
       "      <th>识别异常码</th>\n",
       "      <th>识别结果类型</th>\n",
       "    </tr>\n",
       "  </thead>\n",
       "  <tbody>\n",
       "    <tr>\n",
       "      <th>0</th>\n",
       "      <td>25</td>\n",
       "      <td>1291900003</td>\n",
       "      <td>12919_00003_F.jpg</td>\n",
       "      <td>0</td>\n",
       "      <td>2</td>\n",
       "      <td>我直相司到过丰\\n小的时候总想着要快点长大，这样就可以不用被爸妈\\n罗嗦了。现在却想着回到过...</td>\n",
       "      <td>0</td>\n",
       "      <td>正常</td>\n",
       "    </tr>\n",
       "    <tr>\n",
       "      <th>1</th>\n",
       "      <td>25</td>\n",
       "      <td>1291900005</td>\n",
       "      <td>12919_00005_F.jpg</td>\n",
       "      <td>0</td>\n",
       "      <td>2</td>\n",
       "      <td>我看机后个看下的朋友\\n我真想有一个真正的朋友\\n初中三年时光匆匆过去，我收获了学业上的快乐...</td>\n",
       "      <td>0</td>\n",
       "      <td>正常</td>\n",
       "    </tr>\n",
       "    <tr>\n",
       "      <th>2</th>\n",
       "      <td>25</td>\n",
       "      <td>1291900007</td>\n",
       "      <td>12919_00007_F.jpg</td>\n",
       "      <td>0</td>\n",
       "      <td>2</td>\n",
       "      <td>我真想时光倒流\\n人生不如意之事常八九了人的一生总爱幻想，因为他\\n们做错和错过了太多。人们...</td>\n",
       "      <td>0</td>\n",
       "      <td>正常</td>\n",
       "    </tr>\n",
       "    <tr>\n",
       "      <th>3</th>\n",
       "      <td>25</td>\n",
       "      <td>1291900009</td>\n",
       "      <td>12919_00009_F.jpg</td>\n",
       "      <td>0</td>\n",
       "      <td>2</td>\n",
       "      <td>我真想、成功\\n每一个心里都有愿望，例如”坚强、成功和乐观等等\\n；而我想得到的是成功。\\n...</td>\n",
       "      <td>0</td>\n",
       "      <td>正常</td>\n",
       "    </tr>\n",
       "    <tr>\n",
       "      <th>4</th>\n",
       "      <td>25</td>\n",
       "      <td>1291900011</td>\n",
       "      <td>12919_00011_F.jpg</td>\n",
       "      <td>0</td>\n",
       "      <td>2</td>\n",
       "      <td>呆有想坚理\\n以前。我在想的坚强，到底是什么，它到底有什么用\\n呢”怎么样才可以得到它？直到...</td>\n",
       "      <td>0</td>\n",
       "      <td>正常</td>\n",
       "    </tr>\n",
       "  </tbody>\n",
       "</table>\n",
       "</div>"
      ],
      "text/plain": [
       "   计划ID        数据ID               数据位置  数据类型  识别状态  \\\n",
       "0    25  1291900003  12919_00003_F.jpg     0     2   \n",
       "1    25  1291900005  12919_00005_F.jpg     0     2   \n",
       "2    25  1291900007  12919_00007_F.jpg     0     2   \n",
       "3    25  1291900009  12919_00009_F.jpg     0     2   \n",
       "4    25  1291900011  12919_00011_F.jpg     0     2   \n",
       "\n",
       "                                                识别结果  识别异常码 识别结果类型  \n",
       "0  我直相司到过丰\\n小的时候总想着要快点长大，这样就可以不用被爸妈\\n罗嗦了。现在却想着回到过...      0     正常  \n",
       "1  我看机后个看下的朋友\\n我真想有一个真正的朋友\\n初中三年时光匆匆过去，我收获了学业上的快乐...      0     正常  \n",
       "2  我真想时光倒流\\n人生不如意之事常八九了人的一生总爱幻想，因为他\\n们做错和错过了太多。人们...      0     正常  \n",
       "3  我真想、成功\\n每一个心里都有愿望，例如”坚强、成功和乐观等等\\n；而我想得到的是成功。\\n...      0     正常  \n",
       "4  呆有想坚理\\n以前。我在想的坚强，到底是什么，它到底有什么用\\n呢”怎么样才可以得到它？直到...      0     正常  "
      ]
     },
     "execution_count": 22,
     "metadata": {},
     "output_type": "execute_result"
    }
   ],
   "source": [
    "ds.head()"
   ]
  },
  {
   "cell_type": "code",
   "execution_count": 23,
   "metadata": {
    "collapsed": true
   },
   "outputs": [],
   "source": [
    "writer = pandas.ExcelWriter('识别结果_25_2.xlsx', engine='xlsxwriter')\n",
    "ds.to_excel(writer)"
   ]
  },
  {
   "cell_type": "code",
   "execution_count": 24,
   "metadata": {
    "collapsed": true
   },
   "outputs": [],
   "source": [
    "writer.save()"
   ]
  },
  {
   "cell_type": "code",
   "execution_count": null,
   "metadata": {
    "collapsed": true
   },
   "outputs": [],
   "source": []
  }
 ],
 "metadata": {
  "kernelspec": {
   "display_name": "Python 3",
   "language": "python",
   "name": "python3"
  },
  "language_info": {
   "codemirror_mode": {
    "name": "ipython",
    "version": 3
   },
   "file_extension": ".py",
   "mimetype": "text/x-python",
   "name": "python",
   "nbconvert_exporter": "python",
   "pygments_lexer": "ipython3",
   "version": "3.5.2"
  }
 },
 "nbformat": 4,
 "nbformat_minor": 0
}
