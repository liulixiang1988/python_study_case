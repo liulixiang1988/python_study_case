{
 "cells": [
  {
   "cell_type": "markdown",
   "metadata": {},
   "source": [
    "# iPython使用"
   ]
  },
  {
   "cell_type": "markdown",
   "metadata": {},
   "source": [
    "## 计算用时 "
   ]
  },
  {
   "cell_type": "code",
   "execution_count": 1,
   "metadata": {
    "collapsed": false
   },
   "outputs": [
    {
     "name": "stdout",
     "output_type": "stream",
     "text": [
      "CPU times: user 554 µs, sys: 708 µs, total: 1.26 ms\n",
      "Wall time: 3.01 s\n"
     ]
    }
   ],
   "source": [
    "%%time\n",
    "\n",
    "from time import sleep\n",
    "\n",
    "sleep(1)\n",
    "sleep(1)\n",
    "sleep(1)"
   ]
  },
  {
   "cell_type": "code",
   "execution_count": 2,
   "metadata": {
    "collapsed": false
   },
   "outputs": [
    {
     "name": "stdout",
     "output_type": "stream",
     "text": [
      "The slowest run took 9.79 times longer than the fastest. This could mean that an intermediate result is being cached \n",
      "1000000 loops, best of 3: 166 ns per loop\n",
      "The slowest run took 6.54 times longer than the fastest. This could mean that an intermediate result is being cached \n",
      "10000000 loops, best of 3: 162 ns per loop\n"
     ]
    }
   ],
   "source": [
    "xs = [1, 2, 3, 4, 5, 6]\n",
    "ys = [1, 2, 3, 4, 5, 6]\n",
    "\n",
    "%timeit 6 in xs\n",
    "%timeit 6 in ys"
   ]
  },
  {
   "cell_type": "code",
   "execution_count": 3,
   "metadata": {
    "collapsed": false
   },
   "outputs": [
    {
     "name": "stdout",
     "output_type": "stream",
     "text": [
      "The slowest run took 5.96 times longer than the fastest. This could mean that an intermediate result is being cached \n",
      "1000000 loops, best of 3: 306 ns per loop\n"
     ]
    }
   ],
   "source": [
    "%%timeit\n",
    "\n",
    "xs = [1, 2, 3, 4, 5, 6]\n",
    "\n",
    "6 in xs"
   ]
  },
  {
   "cell_type": "code",
   "execution_count": 4,
   "metadata": {
    "collapsed": false
   },
   "outputs": [
    {
     "data": {
      "application/json": {
       "cell": {
        "!": "OSMagics",
        "HTML": "Other",
        "SVG": "Other",
        "bash": "Other",
        "capture": "ExecutionMagics",
        "debug": "ExecutionMagics",
        "file": "Other",
        "html": "DisplayMagics",
        "javascript": "DisplayMagics",
        "latex": "DisplayMagics",
        "perl": "Other",
        "prun": "ExecutionMagics",
        "pypy": "Other",
        "python": "Other",
        "python2": "Other",
        "python3": "Other",
        "ruby": "Other",
        "script": "ScriptMagics",
        "sh": "Other",
        "svg": "DisplayMagics",
        "sx": "OSMagics",
        "system": "OSMagics",
        "time": "ExecutionMagics",
        "timeit": "ExecutionMagics",
        "writefile": "OSMagics"
       },
       "line": {
        "alias": "OSMagics",
        "alias_magic": "BasicMagics",
        "autocall": "AutoMagics",
        "automagic": "AutoMagics",
        "autosave": "KernelMagics",
        "bookmark": "OSMagics",
        "cat": "Other",
        "cd": "OSMagics",
        "clear": "KernelMagics",
        "colors": "BasicMagics",
        "config": "ConfigMagics",
        "connect_info": "KernelMagics",
        "cp": "Other",
        "debug": "ExecutionMagics",
        "dhist": "OSMagics",
        "dirs": "OSMagics",
        "doctest_mode": "BasicMagics",
        "ed": "Other",
        "edit": "KernelMagics",
        "env": "OSMagics",
        "gui": "BasicMagics",
        "hist": "Other",
        "history": "HistoryMagics",
        "install_default_config": "DeprecatedMagics",
        "install_ext": "ExtensionMagics",
        "install_profiles": "DeprecatedMagics",
        "killbgscripts": "ScriptMagics",
        "ldir": "Other",
        "less": "KernelMagics",
        "lf": "Other",
        "lk": "Other",
        "ll": "Other",
        "load": "CodeMagics",
        "load_ext": "ExtensionMagics",
        "loadpy": "CodeMagics",
        "logoff": "LoggingMagics",
        "logon": "LoggingMagics",
        "logstart": "LoggingMagics",
        "logstate": "LoggingMagics",
        "logstop": "LoggingMagics",
        "ls": "Other",
        "lsmagic": "BasicMagics",
        "lx": "Other",
        "macro": "ExecutionMagics",
        "magic": "BasicMagics",
        "man": "KernelMagics",
        "matplotlib": "PylabMagics",
        "mkdir": "Other",
        "more": "KernelMagics",
        "mv": "Other",
        "notebook": "BasicMagics",
        "page": "BasicMagics",
        "pastebin": "CodeMagics",
        "pdb": "ExecutionMagics",
        "pdef": "NamespaceMagics",
        "pdoc": "NamespaceMagics",
        "pfile": "NamespaceMagics",
        "pinfo": "NamespaceMagics",
        "pinfo2": "NamespaceMagics",
        "popd": "OSMagics",
        "pprint": "BasicMagics",
        "precision": "BasicMagics",
        "profile": "BasicMagics",
        "prun": "ExecutionMagics",
        "psearch": "NamespaceMagics",
        "psource": "NamespaceMagics",
        "pushd": "OSMagics",
        "pwd": "OSMagics",
        "pycat": "OSMagics",
        "pylab": "PylabMagics",
        "qtconsole": "KernelMagics",
        "quickref": "BasicMagics",
        "recall": "HistoryMagics",
        "rehashx": "OSMagics",
        "reload_ext": "ExtensionMagics",
        "rep": "Other",
        "rerun": "HistoryMagics",
        "reset": "NamespaceMagics",
        "reset_selective": "NamespaceMagics",
        "rm": "Other",
        "rmdir": "Other",
        "run": "ExecutionMagics",
        "save": "CodeMagics",
        "sc": "OSMagics",
        "set_env": "OSMagics",
        "store": "StoreMagics",
        "sx": "OSMagics",
        "system": "OSMagics",
        "tb": "ExecutionMagics",
        "time": "ExecutionMagics",
        "timeit": "ExecutionMagics",
        "unalias": "OSMagics",
        "unload_ext": "ExtensionMagics",
        "who": "NamespaceMagics",
        "who_ls": "NamespaceMagics",
        "whos": "NamespaceMagics",
        "xdel": "NamespaceMagics",
        "xmode": "BasicMagics"
       }
      },
      "text/plain": [
       "Available line magics:\n",
       "%alias  %alias_magic  %autocall  %automagic  %autosave  %bookmark  %cat  %cd  %clear  %colors  %config  %connect_info  %cp  %debug  %dhist  %dirs  %doctest_mode  %ed  %edit  %env  %gui  %hist  %history  %install_default_config  %install_ext  %install_profiles  %killbgscripts  %ldir  %less  %lf  %lk  %ll  %load  %load_ext  %loadpy  %logoff  %logon  %logstart  %logstate  %logstop  %ls  %lsmagic  %lx  %macro  %magic  %man  %matplotlib  %mkdir  %more  %mv  %notebook  %page  %pastebin  %pdb  %pdef  %pdoc  %pfile  %pinfo  %pinfo2  %popd  %pprint  %precision  %profile  %prun  %psearch  %psource  %pushd  %pwd  %pycat  %pylab  %qtconsole  %quickref  %recall  %rehashx  %reload_ext  %rep  %rerun  %reset  %reset_selective  %rm  %rmdir  %run  %save  %sc  %set_env  %store  %sx  %system  %tb  %time  %timeit  %unalias  %unload_ext  %who  %who_ls  %whos  %xdel  %xmode\n",
       "\n",
       "Available cell magics:\n",
       "%%!  %%HTML  %%SVG  %%bash  %%capture  %%debug  %%file  %%html  %%javascript  %%latex  %%perl  %%prun  %%pypy  %%python  %%python2  %%python3  %%ruby  %%script  %%sh  %%svg  %%sx  %%system  %%time  %%timeit  %%writefile\n",
       "\n",
       "Automagic is ON, % prefix IS NOT needed for line magics."
      ]
     },
     "execution_count": 4,
     "metadata": {},
     "output_type": "execute_result"
    }
   ],
   "source": [
    "%lsmagic"
   ]
  },
  {
   "cell_type": "code",
   "execution_count": 6,
   "metadata": {
    "collapsed": false
   },
   "outputs": [],
   "source": [
    "from numpy.random import randint\n",
    "\n",
    "xs = randint(1, 100, size=10**6)"
   ]
  },
  {
   "cell_type": "code",
   "execution_count": 14,
   "metadata": {
    "collapsed": false
   },
   "outputs": [
    {
     "name": "stdout",
     "output_type": "stream",
     "text": [
      " "
     ]
    }
   ],
   "source": [
    "%%prun\n",
    "\n",
    "freq = {}\n",
    "for x in xs:\n",
    "    if x not in freq:\n",
    "        freq[x] = 0\n",
    "    freq[x] += 1"
   ]
  },
  {
   "cell_type": "code",
   "execution_count": 15,
   "metadata": {
    "collapsed": false
   },
   "outputs": [
    {
     "name": "stdout",
     "output_type": "stream",
     "text": [
      " "
     ]
    }
   ],
   "source": [
    "%%prun\n",
    "from collections import Counter\n",
    "freq = Counter(xs)"
   ]
  },
  {
   "cell_type": "code",
   "execution_count": 17,
   "metadata": {
    "collapsed": true
   },
   "outputs": [],
   "source": [
    "%matplotlib inline"
   ]
  },
  {
   "cell_type": "code",
   "execution_count": 19,
   "metadata": {
    "collapsed": false
   },
   "outputs": [
    {
     "data": {
      "text/plain": [
       "(array([ 10172.,  10163.,  10045.,   9955.,  10055.,  10065.,  10022.,\n",
       "         10021.,   9997.,  10224.,  10112.,   9994.,   9975.,  10036.,\n",
       "         10099.,  10161.,   9773.,  10135.,  10204.,  10172.,  10088.,\n",
       "          9967.,  10052.,  10168.,  10265.,  10191.,  10155.,  10037.,\n",
       "         10136.,  10069.,  10127.,  10121.,  10048.,  10039.,  10104.,\n",
       "         10468.,  10107.,   9985.,  10150.,  10006.,   9926.,  10025.,\n",
       "         10154.,  10021.,   9956.,  10228.,  10136.,  10097.,  10083.,\n",
       "         10006.,   9949.,  10076.,  10050.,  10208.,  10276.,  10183.,\n",
       "         10069.,  10176.,  10426.,  10093.,  10069.,  10145.,  10160.,\n",
       "          9989.,  10063.,  10039.,  10039.,  10042.,  10162.,  10068.,\n",
       "         10154.,  10330.,  10069.,   9970.,  10092.,  10219.,  10140.,\n",
       "         10268.,  10086.,  10121.,  10080.,  10156.,  10090.,   9928.,\n",
       "         10059.,  10128.,  10242.,  10139.,   9910.,  10158.,  10222.,\n",
       "         10142.,  10048.,  10136.,  10141.,  10143.,  10142.,   9973.,\n",
       "         10137.]),\n",
       " array([  1.        ,   1.98989899,   2.97979798,   3.96969697,\n",
       "          4.95959596,   5.94949495,   6.93939394,   7.92929293,\n",
       "          8.91919192,   9.90909091,  10.8989899 ,  11.88888889,\n",
       "         12.87878788,  13.86868687,  14.85858586,  15.84848485,\n",
       "         16.83838384,  17.82828283,  18.81818182,  19.80808081,\n",
       "         20.7979798 ,  21.78787879,  22.77777778,  23.76767677,\n",
       "         24.75757576,  25.74747475,  26.73737374,  27.72727273,\n",
       "         28.71717172,  29.70707071,  30.6969697 ,  31.68686869,\n",
       "         32.67676768,  33.66666667,  34.65656566,  35.64646465,\n",
       "         36.63636364,  37.62626263,  38.61616162,  39.60606061,\n",
       "         40.5959596 ,  41.58585859,  42.57575758,  43.56565657,\n",
       "         44.55555556,  45.54545455,  46.53535354,  47.52525253,\n",
       "         48.51515152,  49.50505051,  50.49494949,  51.48484848,\n",
       "         52.47474747,  53.46464646,  54.45454545,  55.44444444,\n",
       "         56.43434343,  57.42424242,  58.41414141,  59.4040404 ,\n",
       "         60.39393939,  61.38383838,  62.37373737,  63.36363636,\n",
       "         64.35353535,  65.34343434,  66.33333333,  67.32323232,\n",
       "         68.31313131,  69.3030303 ,  70.29292929,  71.28282828,\n",
       "         72.27272727,  73.26262626,  74.25252525,  75.24242424,\n",
       "         76.23232323,  77.22222222,  78.21212121,  79.2020202 ,\n",
       "         80.19191919,  81.18181818,  82.17171717,  83.16161616,\n",
       "         84.15151515,  85.14141414,  86.13131313,  87.12121212,\n",
       "         88.11111111,  89.1010101 ,  90.09090909,  91.08080808,\n",
       "         92.07070707,  93.06060606,  94.05050505,  95.04040404,\n",
       "         96.03030303,  97.02020202,  98.01010101,  99.        ]),\n",
       " <a list of 99 Patch objects>)"
      ]
     },
     "execution_count": 19,
     "metadata": {},
     "output_type": "execute_result"
    },
    {
     "data": {
      "image/png": "[encoded data removed]",
      "text/plain": [
       "<matplotlib.figure.Figure at 0x106c8f550>"
      ]
     },
     "metadata": {},
     "output_type": "display_data"
    }
   ],
   "source": [
    "from matplotlib.pyplot import hist\n",
    "\n",
    "hist(xs, bins=99)"
   ]
  },
  {
   "cell_type": "code",
   "execution_count": null,
   "metadata": {
    "collapsed": true
   },
   "outputs": [],
   "source": []
  }
 ],
 "metadata": {
  "kernelspec": {
   "display_name": "Python 3",
   "language": "python",
   "name": "python3"
  },
  "language_info": {
   "codemirror_mode": {
    "name": "ipython",
    "version": 3
   },
   "file_extension": ".py",
   "mimetype": "text/x-python",
   "name": "python",
   "nbconvert_exporter": "python",
   "pygments_lexer": "ipython3",
   "version": "3.5.1"
  }
 },
 "nbformat": 4,
 "nbformat_minor": 0
}
